{
 "cells": [
  {
   "cell_type": "code",
   "execution_count": 2,
   "metadata": {},
   "outputs": [
    {
     "name": "stdout",
     "output_type": "stream",
     "text": [
      "Vivi ist die allertollste Frau, die Man(n) sich jemals hätte wünschen können. <3<3\n",
      "Test\n",
      "Testender Tester testet testende Dinge\n"
     ]
    }
   ],
   "source": [
    "print(\"Vivi ist die allertollste Frau, die Man(n) sich jemals hätte wünschen können. <3<3\")\n",
    "\n",
    "print(\"Test\")\n",
    "print(\"Testender Tester testet testende Dinge\")"
   ]
  }
 ],
 "metadata": {
  "kernelspec": {
   "display_name": "Python 3",
   "language": "python",
   "name": "python3"
  },
  "language_info": {
   "codemirror_mode": {
    "name": "ipython",
    "version": 3
   },
   "file_extension": ".py",
   "mimetype": "text/x-python",
   "name": "python",
   "nbconvert_exporter": "python",
   "pygments_lexer": "ipython3",
   "version": "3.12.3"
  }
 },
 "nbformat": 4,
 "nbformat_minor": 2
}
